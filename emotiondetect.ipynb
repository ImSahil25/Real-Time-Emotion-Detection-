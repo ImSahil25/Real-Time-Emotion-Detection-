{
 "cells": [
  {
   "cell_type": "code",
   "execution_count": 1,
   "metadata": {},
   "outputs": [
    {
     "name": "stderr",
     "output_type": "stream",
     "text": [
      "OpenCV: out device of bound (0-0): 1\n",
      "OpenCV: camera failed to properly initialize!\n",
      "[ WARN:0@3.459] global cap.cpp:323 open VIDEOIO(OBSENSOR): raised unknown C++ exception!\n",
      "\n",
      "\n"
     ]
    },
    {
     "name": "stdout",
     "output_type": "stream",
     "text": [
      "[09/21 12:05:17.362985][info][16307][Context.cpp:69] Context created with config: default config!\n",
      "[09/21 12:05:17.362999][info][16307][Context.cpp:74] Context work_dir=/Users/sahiladhikary/Desktop/EMOTION DETECT\n",
      "[09/21 12:05:17.363001][info][16307][Context.cpp:77] \t- SDK version: 1.9.4\n",
      "[09/21 12:05:17.363002][info][16307][Context.cpp:78] \t- SDK stage version: main\n",
      "[09/21 12:05:17.363004][info][16307][Context.cpp:82] get config EnumerateNetDevice:false\n",
      "[09/21 12:05:17.363005][info][16307][MacPal.cpp:36] createObPal: create MacPal!\n",
      "[09/21 12:05:17.363202][info][16307][MacPal.cpp:104] Create PollingDeviceWatcher!\n",
      "[09/21 12:05:17.363209][info][16307][DeviceManager.cpp:15] Current found device(s): (0)\n",
      "[09/21 12:05:17.363211][info][16307][Pipeline.cpp:15] Try to create pipeline with default device.\n",
      "[09/21 12:05:17.363213][warning][16307][ObException.cpp:5] No device found, fail to create pipeline!\n",
      "[09/21 12:05:17.363345][info][16307][Context.cpp:90] Context destroyed\n"
     ]
    },
    {
     "name": "stderr",
     "output_type": "stream",
     "text": [
      "2024-09-21 12:05:19.015 Python[1306:16307] WARNING: Secure coding is not enabled for restorable state! Enable secure coding by implementing NSApplicationDelegate.applicationSupportsSecureRestorableState: and returning YES.\n"
     ]
    }
   ],
   "source": [
    "import cv2\n",
    "from deepface import DeepFace\n",
    "\n",
    "# Load the cascade\n",
    "faceCascade = cv2.CascadeClassifier(cv2.data.haarcascades + 'haarcascade_frontalface_default.xml')\n",
    "\n",
    "# Initialize the webcam\n",
    "cap = cv2.VideoCapture(1)\n",
    "\n",
    "if not cap.isOpened():\n",
    "    cap = cv2.VideoCapture(0)\n",
    "if not cap.isOpened():\n",
    "    raise IOError(\"Cannot open webcam\")\n",
    "\n",
    "while True:\n",
    "    ret, frame = cap.read()\n",
    "\n",
    "    if not ret:\n",
    "        print(\"Failed to capture image\")\n",
    "        break\n",
    "\n",
    "    try:\n",
    "        # Analyze the frame using DeepFace with enforce_detection set to False\n",
    "        result = DeepFace.analyze(frame, actions=['emotion'], enforce_detection=False)\n",
    "\n",
    "        gray = cv2.cvtColor(frame, cv2.COLOR_BGR2GRAY)\n",
    "        faces = faceCascade.detectMultiScale(gray, 1.1, 4)\n",
    "\n",
    "        # Draw rectangles around detected faces\n",
    "        for (x, y, w, h) in faces:\n",
    "            cv2.rectangle(frame, (x, y), (x + w, y + h), (0, 255, 0), 2)\n",
    "\n",
    "        # Display the dominant emotion on the frame\n",
    "        font = cv2.FONT_HERSHEY_SIMPLEX\n",
    "        cv2.putText(frame,\n",
    "                    result[0]['dominant_emotion'],\n",
    "                    (50, 50),\n",
    "                    font, 3,\n",
    "                    (0, 0, 255),\n",
    "                    2,\n",
    "                    cv2.LINE_4)\n",
    "\n",
    "    except ValueError as e:\n",
    "        print(f\"Error during DeepFace analysis: {str(e)}\")\n",
    "\n",
    "    # Show the frame\n",
    "    cv2.imshow('Demo video', frame)\n",
    "\n",
    "    # Exit the loop when 'q' is pressed\n",
    "    if cv2.waitKey(2) & 0xFF == ord('q'):\n",
    "        break\n",
    "\n",
    "# Release the webcam and close windows\n",
    "cap.release()\n",
    "cv2.destroyAllWindows()\n"
   ]
  }
 ],
 "metadata": {
  "kernelspec": {
   "display_name": "Python 3",
   "language": "python",
   "name": "python3"
  },
  "language_info": {
   "codemirror_mode": {
    "name": "ipython",
    "version": 3
   },
   "file_extension": ".py",
   "mimetype": "text/x-python",
   "name": "python",
   "nbconvert_exporter": "python",
   "pygments_lexer": "ipython3",
   "version": "3.12.3"
  }
 },
 "nbformat": 4,
 "nbformat_minor": 2
}
